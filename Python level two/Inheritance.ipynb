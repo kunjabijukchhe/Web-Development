{
 "cells": [
  {
   "cell_type": "code",
   "execution_count": 1,
   "metadata": {},
   "outputs": [],
   "source": [
    "#inheritance"
   ]
  },
  {
   "cell_type": "code",
   "execution_count": 2,
   "metadata": {},
   "outputs": [],
   "source": [
    "class Animal():\n",
    "    def __init__(self):\n",
    "        print(\"ANIMAL CREATED\")\n",
    "    def whoAmI(self):\n",
    "        print(\"ANIMAL\")\n",
    "    def eat(self):\n",
    "        print(\"EATING\")\n",
    "        "
   ]
  },
  {
   "cell_type": "code",
   "execution_count": 4,
   "metadata": {},
   "outputs": [
    {
     "name": "stdout",
     "output_type": "stream",
     "text": [
      "ANIMAL CREATED\n"
     ]
    }
   ],
   "source": [
    "choice=Animal()"
   ]
  },
  {
   "cell_type": "code",
   "execution_count": 10,
   "metadata": {},
   "outputs": [
    {
     "name": "stdout",
     "output_type": "stream",
     "text": [
      "ANIMAL\n",
      "EATING\n"
     ]
    }
   ],
   "source": [
    "choice.whoAmI()\n",
    "choice.eat()"
   ]
  },
  {
   "cell_type": "code",
   "execution_count": 21,
   "metadata": {},
   "outputs": [],
   "source": [
    "class Animal():\n",
    "    def __init__(self):\n",
    "        print(\"ANIMAL CREATED\")\n",
    "    def whoAmI(self):\n",
    "        print(\"ANIMAL\")\n",
    "    def eat(self):\n",
    "        print(\"EATING\")\n",
    "class Dog(Animal):\n",
    "    def __init__(self):\n",
    "        Animal.__init__(self)\n",
    "        print(\"DOG CREATED\")\n",
    "    def whoAmI(self):\n",
    "        print(\"DOG\")\n",
    "    def bark(self):\n",
    "        print(\"WOOF!\")\n",
    "    "
   ]
  },
  {
   "cell_type": "code",
   "execution_count": 22,
   "metadata": {},
   "outputs": [
    {
     "name": "stdout",
     "output_type": "stream",
     "text": [
      "ANIMAL CREATED\n",
      "DOG CREATED\n",
      "DOG\n",
      "EATING\n",
      "WOOF!\n"
     ]
    }
   ],
   "source": [
    "mydog=Dog()\n",
    "mydog.whoAmI()\n",
    "mydog.eat()\n",
    "mydog.bark()"
   ]
  },
  {
   "cell_type": "code",
   "execution_count": 23,
   "metadata": {},
   "outputs": [],
   "source": [
    "#Special Method"
   ]
  },
  {
   "cell_type": "code",
   "execution_count": 32,
   "metadata": {},
   "outputs": [],
   "source": [
    "class Book():\n",
    "    def __init__(self,title,author,pages):\n",
    "        self.title=title\n",
    "        self.author=author\n",
    "        self.pages=pages\n",
    "b=Book(\"Python\",\"Jose\",200)"
   ]
  },
  {
   "cell_type": "code",
   "execution_count": 33,
   "metadata": {},
   "outputs": [
    {
     "name": "stdout",
     "output_type": "stream",
     "text": [
      "<__main__.Book object at 0x7f95083af1d0>\n"
     ]
    }
   ],
   "source": [
    "print(b)"
   ]
  },
  {
   "cell_type": "code",
   "execution_count": 47,
   "metadata": {},
   "outputs": [],
   "source": [
    "class Book():\n",
    "    def __init__(self,title,author,pages):\n",
    "        self.title=title\n",
    "        self.author=author\n",
    "        self.pages=pages\n",
    "    def __str__(self):\n",
    "        return \"Title: {}, Author: {}, Pages: {}\".format(self.title,self.author,self.pages)\n",
    "    def __len__(self):\n",
    "        return self.pages\n",
    "    def __del__(self):\n",
    "        print(\"A book is destroyed!\")\n",
    "b=Book(\"Python\",\"Jose\",200)"
   ]
  },
  {
   "cell_type": "code",
   "execution_count": 48,
   "metadata": {},
   "outputs": [
    {
     "name": "stdout",
     "output_type": "stream",
     "text": [
      "Title: Python, Author: Jose, Pages: 200\n"
     ]
    }
   ],
   "source": [
    "print(b)"
   ]
  },
  {
   "cell_type": "code",
   "execution_count": 49,
   "metadata": {},
   "outputs": [
    {
     "data": {
      "text/plain": [
       "200"
      ]
     },
     "execution_count": 49,
     "metadata": {},
     "output_type": "execute_result"
    }
   ],
   "source": [
    "len(b)"
   ]
  },
  {
   "cell_type": "code",
   "execution_count": 50,
   "metadata": {},
   "outputs": [
    {
     "name": "stdout",
     "output_type": "stream",
     "text": [
      "A book is destroyed!\n"
     ]
    }
   ],
   "source": [
    "del b"
   ]
  },
  {
   "cell_type": "code",
   "execution_count": 53,
   "metadata": {},
   "outputs": [],
   "source": [
    "#project"
   ]
  },
  {
   "cell_type": "code",
   "execution_count": null,
   "metadata": {},
   "outputs": [],
   "source": [
    "from random import shuffle\n",
    "\n",
    "SUITE = 'H D S C'.split()\n",
    "RANKS = '2 3 4 5 6 7 8 9 10 J Q K A'.split()\n",
    "\n",
    "class Deck:\n",
    "    def __init__(self):\n",
    "        print(\"Creating New Ordered Deck!\")\n",
    "        self.allcards=[(s,r) for s in SUITE for r in RANKS ]\n",
    "        '''mycards=[]\n",
    "for r in RANKS:\n",
    "    for s in SUITE:\n",
    "        mycards.append((s,r))'''\n",
    "    def shuffle(self):\n",
    "        print(\"SHUFFLING DECK\")\n",
    "        shuffle(self.allcards)\n",
    "        #return self.allcards\n",
    "    def split_in_half(self):\n",
    "        return (self.allcards[:26],self.allcards[26:])\n"
   ]
  },
  {
   "cell_type": "code",
   "execution_count": null,
   "metadata": {},
   "outputs": [],
   "source": [
    "class Hand:\n",
    "    def __init__(self,cards):\n",
    "        self.cards=cards\n",
    "    def __str__(self):\n",
    "        return \"Contain {} cards\".format(len(self.cards))\n",
    "    def add(self,added_cards):\n",
    "        self.cards.extend(added_cards)\n",
    "    def remove_card(self):\n",
    "        return self.cards.pop()\n",
    "        "
   ]
  },
  {
   "cell_type": "code",
   "execution_count": null,
   "metadata": {},
   "outputs": [],
   "source": [
    "class Player():\n",
    "    def __init__(self,name,hand):\n",
    "        self.name=name\n",
    "        self.hand=hand\n",
    "    def play_card(self):\n",
    "        drawn_card=self.hand.remove_card()\n",
    "        print(\"{} has placed: {}\".format(self.name,drawn_card))\n",
    "        print(\"\\n\")\n",
    "        return drawn_card\n",
    "    def remove_war_cards(self):\n",
    "        war_card=[]\n",
    "        for x in range(3):\n",
    "            war_card.append(self.hand.remove_card())\n",
    "            return war_card\n",
    "    def still_has_cards(self):\n",
    "        return len(self.hand.cards)!=0"
   ]
  },
  {
   "cell_type": "code",
   "execution_count": null,
   "metadata": {},
   "outputs": [],
   "source": [
    "print(\"Welcome to War, let's begin...\")\n",
    "d=Deck()\n",
    "d.shuffle()\n",
    "half1,half2=d.split_in_half()\n",
    "\n",
    "comp=Player(\"Computer\",Hand(half1))\n",
    "name=input(\"What is your name?\")\n",
    "user=Player(name,Hand(half2))\n",
    "\n",
    "total_round=0\n",
    "war_count=0\n",
    "\n",
    "while user.still_has_cards() and comp.still_has_cards():\n",
    "    total_round+=1\n",
    "    print(\"Time for a new round!\")\n",
    "    print(\"here are the current standings\")\n",
    "    print(user.name+\" has the count: \"+str(len(user.hand.cards)))\n",
    "    print(comp.name+\" has the count: \"+str(len(user.hand.cards)))\n",
    "    print(\"play a card!\")\n",
    "    print(\"\\n\")\n",
    "table_cards = []\n",
    "\n",
    "    # Play cards\n",
    "    c_card = comp.play_card()\n",
    "    p_card = user.play_card()\n",
    "\n",
    "    # Add to table_cards\n",
    "    table_cards.append(c_card)\n",
    "    table_cards.append(p_card)\n",
    "\n",
    "    # Check for War!\n",
    "    if c_card[1] == p_card[1]:\n",
    "        war_count +=1\n",
    "        print(\"We have a match, time for war!\")\n",
    "        print(\"Each player removes 3 cards 'face down' and then one card face up\")\n",
    "        table_cards.extend(user.remove_war_cards())\n",
    "        table_cards.extend(comp.remove_war_cards())\n",
    "\n",
    "        # Play cards\n",
    "        c_card = comp.play_card()\n",
    "        p_card = user.play_card()\n",
    "\n",
    "        # Add to table_cards\n",
    "        table_cards.append(c_card)\n",
    "        table_cards.append(p_card)\n",
    "\n",
    "        # Check to see who had higher rank\n",
    "        if RANKS.index(c_card[1]) < RANKS.index(p_card[1]):\n",
    "            print(user.name+\" has the higher card, adding to hand.\")\n",
    "            user.hand.add(table_cards)\n",
    "        else:\n",
    "            print(comp.name+\" has the higher card, adding to hand.\")\n",
    "            comp.hand.add(table_cards)\n",
    "\n",
    "    else:\n",
    "        # Check to see who had higher rank\n",
    "        if RANKS.index(c_card[1]) < RANKS.index(p_card[1]):\n",
    "            print(user.name+\" has the higher card, adding to hand.\")\n",
    "            user.hand.add(table_cards)\n",
    "        else:\n",
    "            print(comp.name+\" has the higher card, adding to hand.\")\n",
    "            comp.hand.add(table_cards)\n",
    "\n",
    "print(\"Great Game, it lasted: \"+str(total_rounds))\n",
    "print(\"A war occured \"+str(war_count)+\" times.\")"
   ]
  },
  {
   "cell_type": "code",
   "execution_count": null,
   "metadata": {},
   "outputs": [],
   "source": []
  },
  {
   "cell_type": "code",
   "execution_count": null,
   "metadata": {},
   "outputs": [],
   "source": []
  },
  {
   "cell_type": "code",
   "execution_count": 167,
   "metadata": {},
   "outputs": [],
   "source": []
  },
  {
   "cell_type": "code",
   "execution_count": null,
   "metadata": {},
   "outputs": [],
   "source": [
    "\n"
   ]
  },
  {
   "cell_type": "code",
   "execution_count": null,
   "metadata": {},
   "outputs": [],
   "source": []
  }
 ],
 "metadata": {
  "kernelspec": {
   "display_name": "Python 3",
   "language": "python",
   "name": "python3"
  },
  "language_info": {
   "codemirror_mode": {
    "name": "ipython",
    "version": 3
   },
   "file_extension": ".py",
   "mimetype": "text/x-python",
   "name": "python",
   "nbconvert_exporter": "python",
   "pygments_lexer": "ipython3",
   "version": "3.6.8"
  }
 },
 "nbformat": 4,
 "nbformat_minor": 2
}
