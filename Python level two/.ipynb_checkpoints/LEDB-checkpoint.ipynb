{
 "cells": [
  {
   "cell_type": "code",
   "execution_count": 4,
   "metadata": {},
   "outputs": [],
   "source": [
    "#scope"
   ]
  },
  {
   "cell_type": "code",
   "execution_count": 6,
   "metadata": {},
   "outputs": [],
   "source": [
    "#LEGB\n",
    "#L-local\n",
    "#E-Enclosing Function locals\n",
    "#G-Global\n",
    "#B-Built-in"
   ]
  },
  {
   "cell_type": "code",
   "execution_count": 11,
   "metadata": {},
   "outputs": [
    {
     "name": "stdout",
     "output_type": "stream",
     "text": [
      "25\n"
     ]
    }
   ],
   "source": [
    "x=25\n",
    "def my_func():\n",
    "    x=20\n",
    "    return x\n",
    "#print(x)\n",
    "#print(my_func())\n",
    "my_func()\n",
    "print(x)"
   ]
  },
  {
   "cell_type": "code",
   "execution_count": 12,
   "metadata": {},
   "outputs": [],
   "source": [
    "#local"
   ]
  },
  {
   "cell_type": "code",
   "execution_count": 49,
   "metadata": {},
   "outputs": [
    {
     "data": {
      "text/plain": [
       "<function __main__.<lambda>>"
      ]
     },
     "execution_count": 49,
     "metadata": {},
     "output_type": "execute_result"
    }
   ],
   "source": [
    "lambda x:x**2 #x is local\n"
   ]
  },
  {
   "cell_type": "code",
   "execution_count": 47,
   "metadata": {},
   "outputs": [],
   "source": [
    "#Enclosing Function locals(nestest function)"
   ]
  },
  {
   "cell_type": "code",
   "execution_count": 40,
   "metadata": {},
   "outputs": [],
   "source": [
    "name =\"This is a global name!\"\n",
    "def greet():\n",
    "    #name=\"sammy\"\n",
    "    def hello():\n",
    "        print(\"hello \"+name)\n",
    "    hello()"
   ]
  },
  {
   "cell_type": "code",
   "execution_count": 41,
   "metadata": {},
   "outputs": [
    {
     "name": "stdout",
     "output_type": "stream",
     "text": [
      "hello This is a global name!\n"
     ]
    }
   ],
   "source": [
    "\n",
    "greet()"
   ]
  },
  {
   "cell_type": "code",
   "execution_count": 39,
   "metadata": {},
   "outputs": [
    {
     "name": "stdout",
     "output_type": "stream",
     "text": [
      "This is a global name!\n"
     ]
    }
   ],
   "source": [
    "print(name)"
   ]
  },
  {
   "cell_type": "code",
   "execution_count": 53,
   "metadata": {},
   "outputs": [],
   "source": [
    "x=50\n",
    "def func(x):\n",
    "    print(\"x is: \",x)\n",
    "    x=1000\n",
    "    print(\"local x change to:\",x)"
   ]
  },
  {
   "cell_type": "code",
   "execution_count": 54,
   "metadata": {},
   "outputs": [
    {
     "name": "stdout",
     "output_type": "stream",
     "text": [
      "x is:  50\n",
      "local x change to: 1000\n"
     ]
    }
   ],
   "source": [
    "func(x)"
   ]
  },
  {
   "cell_type": "code",
   "execution_count": 61,
   "metadata": {},
   "outputs": [
    {
     "name": "stdout",
     "output_type": "stream",
     "text": [
      "before, function call x is: 50\n",
      "after, function call x is: 100\n"
     ]
    }
   ],
   "source": [
    "x=50\n",
    "def func():\n",
    "    global x \n",
    "    x=100\n",
    "    \n",
    "print(\"before, function call x is:\",x)\n",
    "func()\n",
    "print(\"after, function call x is:\",x)"
   ]
  },
  {
   "cell_type": "code",
   "execution_count": 64,
   "metadata": {},
   "outputs": [
    {
     "name": "stdout",
     "output_type": "stream",
     "text": [
      "before, function call x is: 50\n",
      "after, function call x is: 100\n"
     ]
    }
   ],
   "source": [
    "x=50\n",
    "def func():\n",
    "    #global x \n",
    "    x=100\n",
    "    return x\n",
    "    \n",
    "print(\"before, function call x is:\",x)\n",
    "a=func()\n",
    "print(\"after, function call x is:\",a)"
   ]
  },
  {
   "cell_type": "code",
   "execution_count": 65,
   "metadata": {},
   "outputs": [],
   "source": [
    "#OOP"
   ]
  },
  {
   "cell_type": "code",
   "execution_count": 71,
   "metadata": {},
   "outputs": [],
   "source": [
    "class Sample():\n",
    "    pass"
   ]
  },
  {
   "cell_type": "code",
   "execution_count": 75,
   "metadata": {},
   "outputs": [
    {
     "name": "stdout",
     "output_type": "stream",
     "text": [
      "<class '__main__.Sample'>\n"
     ]
    }
   ],
   "source": [
    "x=Sample()\n",
    "print(type(x))"
   ]
  },
  {
   "cell_type": "code",
   "execution_count": 94,
   "metadata": {},
   "outputs": [
    {
     "name": "stdout",
     "output_type": "stream",
     "text": [
      "Sammy\n",
      "lab\n",
      "Husie\n",
      "Fopi\n"
     ]
    }
   ],
   "source": [
    "class Dog():\n",
    "    def __init__(self,breed,name):#initialization method and self is necassery that mean self return to itself \n",
    "        self.bred=breed\n",
    "        #self.breed=breed\n",
    "        self.name=name\n",
    "    \n",
    "mydog=Dog(breed=\"lab\",name=\"Sammy\")#(\"lab\",\"Sammy\")\n",
    "\n",
    "mydog1=Dog(breed=\"Husie\",name=\"Fopi\")\n",
    "print(mydog.name)\n",
    "#print(type(mydog))\n",
    "print(mydog.bred)#print(mydog.breed)\n",
    "print(mydog1.bred)\n",
    "print(mydog1.name)"
   ]
  },
  {
   "cell_type": "code",
   "execution_count": 95,
   "metadata": {},
   "outputs": [],
   "source": [
    "#class object attribute"
   ]
  },
  {
   "cell_type": "code",
   "execution_count": 96,
   "metadata": {},
   "outputs": [
    {
     "name": "stdout",
     "output_type": "stream",
     "text": [
      "Sammy\n",
      "lab\n",
      "mammal\n"
     ]
    }
   ],
   "source": [
    "class Dog():\n",
    "    species=\"mammal\"#class object attribute\n",
    "    def __init__(self,breed,name):\n",
    "        self.breed=breed\n",
    "        self.name=name\n",
    "    \n",
    "mydog=Dog(breed=\"lab\",name=\"Sammy\")\n",
    "\n",
    "\n",
    "print(mydog.name)\n",
    "\n",
    "print(mydog.breed)\n",
    "print(mydog.species)\n"
   ]
  },
  {
   "cell_type": "code",
   "execution_count": 132,
   "metadata": {},
   "outputs": [],
   "source": [
    "class Circle():\n",
    "    pi=3.14\n",
    "    \n",
    "    def __init__(self,radius=1):#1 is default value\n",
    "        self.radius=radius\n",
    "    def area(self):#self area is method of the class circle\n",
    "        return self.radius**2*Circle.pi#self.pi\n",
    "    def set_radius(self,new_r):\n",
    "        self.radius=new_r"
   ]
  },
  {
   "cell_type": "code",
   "execution_count": 134,
   "metadata": {},
   "outputs": [
    {
     "name": "stdout",
     "output_type": "stream",
     "text": [
      "31400.0\n"
     ]
    }
   ],
   "source": [
    "mycircle=Circle()\n",
    "mycircle.set_radius(100) #mycircle.radius=100\n",
    "print(mycircle.area())"
   ]
  },
  {
   "cell_type": "code",
   "execution_count": null,
   "metadata": {},
   "outputs": [],
   "source": []
  }
 ],
 "metadata": {
  "kernelspec": {
   "display_name": "Python 3",
   "language": "python",
   "name": "python3"
  },
  "language_info": {
   "codemirror_mode": {
    "name": "ipython",
    "version": 3
   },
   "file_extension": ".py",
   "mimetype": "text/x-python",
   "name": "python",
   "nbconvert_exporter": "python",
   "pygments_lexer": "ipython3",
   "version": "3.6.8"
  }
 },
 "nbformat": 4,
 "nbformat_minor": 2
}
