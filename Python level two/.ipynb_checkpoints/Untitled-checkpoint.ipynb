{
 "cells": [
  {
   "cell_type": "code",
   "execution_count": 1,
   "metadata": {},
   "outputs": [],
   "source": [
    "#Exception"
   ]
  },
  {
   "cell_type": "code",
   "execution_count": 4,
   "metadata": {},
   "outputs": [
    {
     "name": "stdout",
     "output_type": "stream",
     "text": [
      "success\n"
     ]
    }
   ],
   "source": [
    "try:\n",
    "    f=open(\"simple.txt\",\"w\")\n",
    "    f.write(\"Hello World\")\n",
    "except IOError:\n",
    "    print(\"error\")\n",
    "else:\n",
    "    print(\"success\")\n",
    "    f.close()"
   ]
  },
  {
   "cell_type": "code",
   "execution_count": 5,
   "metadata": {},
   "outputs": [],
   "source": [
    "#regural expression"
   ]
  },
  {
   "cell_type": "code",
   "execution_count": 8,
   "metadata": {},
   "outputs": [
    {
     "name": "stdout",
     "output_type": "stream",
     "text": [
      "I'm searching for: term1\n",
      "Match\n",
      "I'm searching for: term2\n",
      "No Match\n"
     ]
    }
   ],
   "source": [
    "import re\n",
    "mylist=['term1','term2']\n",
    "text='This is a string with term1, not not the other!'\n",
    "for i in mylist:\n",
    "    print(\"I'm searching for: \"+i)\n",
    "    if re.search(i,text):\n",
    "        print(\"Match\")\n",
    "    else:\n",
    "        print(\"No Match\")"
   ]
  },
  {
   "cell_type": "code",
   "execution_count": 9,
   "metadata": {},
   "outputs": [
    {
     "name": "stdout",
     "output_type": "stream",
     "text": [
      "<_sre.SRE_Match object; span=(22, 27), match='term1'>\n"
     ]
    }
   ],
   "source": [
    "text='This is a string with term1, not not the other!'\n",
    "match=re.search('term1',text)\n",
    "print(match)"
   ]
  },
  {
   "cell_type": "code",
   "execution_count": 10,
   "metadata": {},
   "outputs": [
    {
     "name": "stdout",
     "output_type": "stream",
     "text": [
      "22\n"
     ]
    }
   ],
   "source": [
    "print(match.start())"
   ]
  },
  {
   "cell_type": "code",
   "execution_count": 12,
   "metadata": {},
   "outputs": [
    {
     "name": "stdout",
     "output_type": "stream",
     "text": [
      "(22, 27)\n"
     ]
    }
   ],
   "source": [
    "print(match.span())"
   ]
  },
  {
   "cell_type": "code",
   "execution_count": 19,
   "metadata": {},
   "outputs": [
    {
     "data": {
      "text/plain": [
       "['user', 'gmail.com']"
      ]
     },
     "execution_count": 19,
     "metadata": {},
     "output_type": "execute_result"
    }
   ],
   "source": [
    "split_term='@'\n",
    "email='user@gmail.com'\n",
    "re.split(split_term,email)"
   ]
  },
  {
   "cell_type": "code",
   "execution_count": 26,
   "metadata": {},
   "outputs": [
    {
     "data": {
      "text/plain": [
       "['user', 'gmail.com']"
      ]
     },
     "execution_count": 26,
     "metadata": {},
     "output_type": "execute_result"
    }
   ],
   "source": [
    "\n",
    "email='user@gmail.com'.split('@')\n",
    "email"
   ]
  },
  {
   "cell_type": "code",
   "execution_count": 27,
   "metadata": {},
   "outputs": [
    {
     "data": {
      "text/plain": [
       "['match', 'match']"
      ]
     },
     "execution_count": 27,
     "metadata": {},
     "output_type": "execute_result"
    }
   ],
   "source": [
    "re.findall('match','test phrase match in match middle')"
   ]
  },
  {
   "cell_type": "code",
   "execution_count": 32,
   "metadata": {},
   "outputs": [
    {
     "name": "stdout",
     "output_type": "stream",
     "text": [
      "['user', 'gmail.com']\n"
     ]
    }
   ],
   "source": [
    "email='user#gmail.com'\n",
    "if '@' in email:\n",
    "    print(email.split('@'))\n",
    "else:\n",
    "    print(email.split('#'))"
   ]
  },
  {
   "cell_type": "code",
   "execution_count": 73,
   "metadata": {},
   "outputs": [
    {
     "name": "stdout",
     "output_type": "stream",
     "text": [
      "Searching for pattern s[sd]+\n",
      "['sdsd', 'sssddd', 'sdddsddd', 'sds', 'ssssss', 'sddddd']\n",
      "\n",
      "\n"
     ]
    }
   ],
   "source": [
    "def multi_re_find(patterns,phrase):\n",
    "    for pat in patterns:\n",
    "        print(\"Searching for pattern {}\".format(pat))\n",
    "        print(re.findall(pat,phrase))\n",
    "        print(\"\\n\")\n",
    "test_pharse=\"sdsd.sssddd.sdddsddd...dsds...dssssss...sddddd\"\n",
    "#test_pattern=['sd*']\n",
    "#test_pattern=['sd+']\n",
    "#test_pattern=['sd?']\n",
    "#test_pattern=['sd{3}']\n",
    "#test_pattern=['s[sd]+']\n",
    "#test_pattern=['sd{1,3}']\n",
    "\n",
    "multi_re_find(test_pattern,test_pharse)"
   ]
  },
  {
   "cell_type": "code",
   "execution_count": 74,
   "metadata": {},
   "outputs": [],
   "source": [
    "patterns=['sd']\n",
    "phrase=\"sdsd.sssddd.sdddsddd...dsds...dssssss...sddddd\""
   ]
  },
  {
   "cell_type": "code",
   "execution_count": 75,
   "metadata": {},
   "outputs": [
    {
     "name": "stdout",
     "output_type": "stream",
     "text": [
      "Searching for pattern sd\n",
      "['sd', 'sd', 'sd', 'sd', 'sd', 'sd', 'sd']\n"
     ]
    }
   ],
   "source": [
    "for pat in patterns:\n",
    "        print(\"Searching for pattern {}\".format(pat))\n",
    "        print(re.findall(pat,phrase))"
   ]
  },
  {
   "cell_type": "code",
   "execution_count": 84,
   "metadata": {},
   "outputs": [
    {
     "name": "stdout",
     "output_type": "stream",
     "text": [
      "Searching for pattern [a-z]+\n",
      "['his', 'is', 'a', 'string', 'ut', 'is', 'has', 'punctuation', 'ow', 'can', 'we', 'remove', 'it']\n",
      "\n",
      "\n"
     ]
    }
   ],
   "source": [
    "def multi_re_finds(patterns,phrase):\n",
    "    for pat in patterns:\n",
    "        print(\"Searching for pattern {}\".format(pat))\n",
    "        print(re.findall(pat,phrase))\n",
    "        print(\"\\n\")\n",
    "test_pharse=\"This is a string! But is has punctuation. How can we remove it?\"\n",
    "#test_patterns=['[^!.?]+']\n",
    "test_patterns=['[a-z]+']\n",
    "#test_patterns=['[A-Z]+']\n",
    "multi_re_finds(test_patterns,test_pharse)"
   ]
  },
  {
   "cell_type": "code",
   "execution_count": 90,
   "metadata": {},
   "outputs": [
    {
     "data": {
      "text/plain": [
       "['his',\n",
       " 'is',\n",
       " 'a',\n",
       " 'string',\n",
       " 'ut',\n",
       " 'is',\n",
       " 'has',\n",
       " 'punctuation',\n",
       " 'ow',\n",
       " 'can',\n",
       " 'we',\n",
       " 'remove',\n",
       " 'it']"
      ]
     },
     "execution_count": 90,
     "metadata": {},
     "output_type": "execute_result"
    }
   ],
   "source": [
    "test_pharse=\"This is a string! But is has punctuation. How can we remove it?\"\n",
    "re.findall('[a-z]+',test_pharse)"
   ]
  },
  {
   "cell_type": "code",
   "execution_count": 96,
   "metadata": {},
   "outputs": [
    {
     "name": "stdout",
     "output_type": "stream",
     "text": [
      "['5646548']\n",
      "['This is a string! But is has punctuation', '. #How can we remove it?']\n",
      "[' ', ' ', ' ', ' ', ' ', ' ', ' ', ' ', ' ', ' ', ' ', ' ']\n",
      "['This', 'is', 'a', 'string!', 'But', 'is', 'has', 'punctuation5646548.', '#How', 'can', 'we', 'remove', 'it?']\n",
      "['This', 'is', 'a', 'string', 'But', 'is', 'has', 'punctuation5646548', 'How', 'can', 'we', 'remove', 'it']\n",
      "[' ', ' ', ' ', '! ', ' ', ' ', ' ', '. #', ' ', ' ', ' ', ' ', '?']\n"
     ]
    }
   ],
   "source": [
    "test_pharse=\"This is a string! But is has punctuation5646548. #How can we remove it?\"\n",
    "print(re.findall(r'\\d+',test_pharse))\n",
    "print(re.findall(r'\\D+',test_pharse))\n",
    "print(re.findall(r'\\s+',test_pharse))\n",
    "print(re.findall(r'\\S+',test_pharse))\n",
    "print(re.findall(r'\\w+',test_pharse))\n",
    "print(re.findall(r'\\W+',test_pharse))"
   ]
  },
  {
   "cell_type": "code",
   "execution_count": 104,
   "metadata": {},
   "outputs": [
    {
     "data": {
      "text/plain": [
       "0"
      ]
     },
     "execution_count": 104,
     "metadata": {},
     "output_type": "execute_result"
    }
   ],
   "source": [
    "#import random\n",
    "#random.randint(0,4)"
   ]
  },
  {
   "cell_type": "code",
   "execution_count": 107,
   "metadata": {},
   "outputs": [
    {
     "data": {
      "text/plain": [
       "4"
      ]
     },
     "execution_count": 107,
     "metadata": {},
     "output_type": "execute_result"
    }
   ],
   "source": [
    "#from random import randint\n",
    "#randint(0,4)"
   ]
  },
  {
   "cell_type": "code",
   "execution_count": 186,
   "metadata": {},
   "outputs": [],
   "source": [
    "from random import *\n",
    "a='[1,2] [3,4] [5,6]'.split()\n",
    "\n",
    "shuffle(a)"
   ]
  },
  {
   "cell_type": "code",
   "execution_count": 187,
   "metadata": {},
   "outputs": [
    {
     "name": "stdout",
     "output_type": "stream",
     "text": [
      "['[1,2]', '[3,4]', '[5,6]']\n"
     ]
    }
   ],
   "source": [
    "print(a)"
   ]
  },
  {
   "cell_type": "code",
   "execution_count": 192,
   "metadata": {},
   "outputs": [
    {
     "name": "stdout",
     "output_type": "stream",
     "text": [
      "Top level one.py\n",
      "one.py is being run directly\n"
     ]
    }
   ],
   "source": [
    "def func():\n",
    "    print(\"func() is one.py\")\n",
    "print(\"Top level one.py\")\n",
    "if __name__=='__main__':\n",
    "    print(\"one.py is being run directly\")\n",
    "else:\n",
    "    print(\"one.py has been imported\")\n",
    "    "
   ]
  },
  {
   "cell_type": "code",
   "execution_count": 193,
   "metadata": {
    "scrolled": true
   },
   "outputs": [
    {
     "name": "stdout",
     "output_type": "stream",
     "text": [
      "Top level two.py\n",
      "func() is one.py\n",
      "two.py is being run directly\n"
     ]
    }
   ],
   "source": [
    "print(\"Top level two.py\")\n",
    "func()\n",
    "if __name__=='__main__':\n",
    "    print(\"two.py is being run directly\")\n",
    "else:\n",
    "    print(\"two.py has been imported\")"
   ]
  },
  {
   "cell_type": "code",
   "execution_count": null,
   "metadata": {},
   "outputs": [],
   "source": []
  },
  {
   "cell_type": "code",
   "execution_count": 2,
   "metadata": {},
   "outputs": [],
   "source": [
    "import random\n"
   ]
  },
  {
   "cell_type": "code",
   "execution_count": 14,
   "metadata": {},
   "outputs": [
    {
     "ename": "TypeError",
     "evalue": "'int' object is not subscriptable",
     "output_type": "error",
     "traceback": [
      "\u001b[0;31m------------------------------------------------------------------\u001b[0m",
      "\u001b[0;31mTypeError\u001b[0m                        Traceback (most recent call last)",
      "\u001b[0;32m<ipython-input-14-dd326d1d9f82>\u001b[0m in \u001b[0;36m<module>\u001b[0;34m()\u001b[0m\n\u001b[1;32m      1\u001b[0m \u001b[0ma\u001b[0m\u001b[0;34m=\u001b[0m\u001b[0;34m[\u001b[0m\u001b[0;36m1\u001b[0m\u001b[0;34m,\u001b[0m\u001b[0;36m2\u001b[0m\u001b[0;34m,\u001b[0m\u001b[0;36m3\u001b[0m\u001b[0;34m,\u001b[0m\u001b[0;36m4\u001b[0m\u001b[0;34m,\u001b[0m\u001b[0;36m5\u001b[0m\u001b[0;34m]\u001b[0m\u001b[0;34m\u001b[0m\u001b[0;34m\u001b[0m\u001b[0m\n\u001b[0;32m----> 2\u001b[0;31m \u001b[0mrandom\u001b[0m\u001b[0;34m.\u001b[0m\u001b[0mchoice\u001b[0m\u001b[0;34m(\u001b[0m\u001b[0ma\u001b[0m\u001b[0;34m)\u001b[0m\u001b[0;34m[\u001b[0m\u001b[0;36m0\u001b[0m\u001b[0;34m]\u001b[0m\u001b[0;34m\u001b[0m\u001b[0;34m\u001b[0m\u001b[0m\n\u001b[0m",
      "\u001b[0;31mTypeError\u001b[0m: 'int' object is not subscriptable"
     ]
    }
   ],
   "source": [
    "a=[1,2,3,4,5]\n",
    "random.choice(a)"
   ]
  },
  {
   "cell_type": "code",
   "execution_count": 13,
   "metadata": {},
   "outputs": [
    {
     "data": {
      "text/plain": [
       "2"
      ]
     },
     "execution_count": 13,
     "metadata": {},
     "output_type": "execute_result"
    }
   ],
   "source": [
    "random.randint(0,5)"
   ]
  },
  {
   "cell_type": "code",
   "execution_count": 26,
   "metadata": {},
   "outputs": [],
   "source": [
    "s=\"global variable\"\n",
    "def func():\n",
    "    print(s)"
   ]
  },
  {
   "cell_type": "code",
   "execution_count": 27,
   "metadata": {},
   "outputs": [
    {
     "name": "stdout",
     "output_type": "stream",
     "text": [
      "global variable\n"
     ]
    }
   ],
   "source": [
    "func()"
   ]
  },
  {
   "cell_type": "code",
   "execution_count": 17,
   "metadata": {},
   "outputs": [
    {
     "name": "stdout",
     "output_type": "stream",
     "text": [
      "global variable\n"
     ]
    }
   ],
   "source": [
    "s=\"global variable\"\n",
    "def func(s):\n",
    "    print(s)\n",
    "func(s)"
   ]
  },
  {
   "cell_type": "code",
   "execution_count": 18,
   "metadata": {},
   "outputs": [],
   "source": [
    "s=\"global variable\"\n",
    "def func():\n",
    "    s=50\n",
    "    print(s)"
   ]
  },
  {
   "cell_type": "code",
   "execution_count": 19,
   "metadata": {},
   "outputs": [
    {
     "name": "stdout",
     "output_type": "stream",
     "text": [
      "50\n"
     ]
    }
   ],
   "source": [
    "func()"
   ]
  },
  {
   "cell_type": "code",
   "execution_count": 20,
   "metadata": {},
   "outputs": [
    {
     "data": {
      "text/plain": [
       "'global variable'"
      ]
     },
     "execution_count": 20,
     "metadata": {},
     "output_type": "execute_result"
    }
   ],
   "source": [
    "s"
   ]
  },
  {
   "cell_type": "code",
   "execution_count": 21,
   "metadata": {},
   "outputs": [],
   "source": [
    "s=\"global variable\"\n",
    "def func():\n",
    "    global s\n",
    "    s=50\n",
    "    print(s)"
   ]
  },
  {
   "cell_type": "code",
   "execution_count": 22,
   "metadata": {},
   "outputs": [
    {
     "name": "stdout",
     "output_type": "stream",
     "text": [
      "50\n"
     ]
    }
   ],
   "source": [
    "func()"
   ]
  },
  {
   "cell_type": "code",
   "execution_count": 23,
   "metadata": {},
   "outputs": [
    {
     "data": {
      "text/plain": [
       "50"
      ]
     },
     "execution_count": 23,
     "metadata": {},
     "output_type": "execute_result"
    }
   ],
   "source": [
    "s"
   ]
  },
  {
   "cell_type": "code",
   "execution_count": null,
   "metadata": {},
   "outputs": [],
   "source": [
    "def hello(name='jose'):\n",
    "    print(\"HELLO()\")\n",
    "    def greet():\n",
    "    print(\"GREET()\")\n",
    "    def welcome():\n",
    "    print(\"GREET()\")"
   ]
  }
 ],
 "metadata": {
  "kernelspec": {
   "display_name": "Python 3",
   "language": "python",
   "name": "python3"
  },
  "language_info": {
   "codemirror_mode": {
    "name": "ipython",
    "version": 3
   },
   "file_extension": ".py",
   "mimetype": "text/x-python",
   "name": "python",
   "nbconvert_exporter": "python",
   "pygments_lexer": "ipython3",
   "version": "3.6.8"
  }
 },
 "nbformat": 4,
 "nbformat_minor": 2
}
